{
 "cells": [
  {
   "cell_type": "code",
   "execution_count": 5,
   "metadata": {},
   "outputs": [],
   "source": [
    "import os\n",
    "import re\n",
    "import pandas as pd\n",
    "from time import time\n",
    "import datetime\n",
    "import numpy as np\n",
    "import spacy\n",
    "import nltk\n",
    "import wrds\n",
    "import spacy\n",
    "import seaborn as sns\n",
    "import matplotlib.pyplot as plt\n",
    "import yfinance as yf\n",
    "from tqdm import tqdm"
   ]
  },
  {
   "cell_type": "code",
   "execution_count": 6,
   "metadata": {},
   "outputs": [],
   "source": [
    "RANDOM_SEED = 7\n",
    "DATA_DIR = \"../data\"\n",
    "INTERM_DIR = '../compiled data'\n",
    "\n",
    "# note: wsb=wallstreetbets\n",
    "wsb_data_path = os.path.join(DATA_DIR, 'wsb_comments/wsb_comments_raw.csv')\n",
    "stock_data_path = os.path.join(DATA_DIR, 'GME')\n",
    "\n",
    "# db = wrds.Connection(wrds_username='debabech', wrds_passeword='Electro1004$')\n",
    "# db.create_pgpass_file()\n",
    "# permcos = db.get_table(library='crsp', table='stocknames')[\n",
    "#     [\"permco\", \"ticker\"]]\n",
    "\n",
    "# efficiency and accuracy --> \"en_core_web_trf\"\n",
    "nlp = spacy.load(\"en_core_web_sm\")"
   ]
  },
  {
   "cell_type": "code",
   "execution_count": 7,
   "metadata": {},
   "outputs": [],
   "source": [
    "# Define functions to load our data\n",
    "\n",
    "def load_wsb_data(data_path, nrows=None, cols=['author', 'body','created_utc', 'score', 'link_id', 'is_submitter']):\n",
    "    \"Load wsb data, nrows None indicates all rows, otherwise specified integer of rows\"\n",
    "    data = pd.read_csv(wsb_data_path, nrows = nrows, delimiter=',', usecols=cols)\n",
    "    \n",
    "    data = data[data['author'] != '[deleted]']\n",
    "    data = data[data['body'] != '[deleted]']\n",
    "    data = data[data['body'] != '[removed]']\n",
    "    \n",
    "    data['created_utc'] = pd.to_numeric(data['created_utc'], errors='coerce')\n",
    "    data = data.dropna(subset=['created_utc'])\n",
    "    data['created_utc'] = data['created_utc'].astype(int)\n",
    "\n",
    "    data['created_utc'] = data['created_utc'].apply(lambda x: datetime.datetime.utcfromtimestamp(x).strftime('%Y-%m-%d %H:%M:%S'))\n",
    "    data = data.loc[data['created_utc'] > '2000']\n",
    "    return data\n",
    "\n",
    "def load_stock_wrds(ticker):\n",
    "    permco = permcos[permcos.ticker == ticker].permco.values[0]\n",
    "    # to 2021-03-25 ??\n",
    "    req = f\"select prc, date from crsp.dsf where permco in ({permco}) and date >='2012-01-31' and date <='2021-02-16'\"\n",
    "    asset = db.raw_sql(req, date_cols=['date'])\n",
    "    asset = asset.dropna()\n",
    "    asset[\"log_ret\"] = np.log(asset.prc).diff(1)\n",
    "\n",
    "    return asset[\"log_ret\"]\n",
    "\n",
    "\n",
    "def load_stock_yh(ticker):\n",
    "    asset = yf.download(ticker, interval='1d',\n",
    "                        start=\"2012-01-31\", end=\"2021-02-16\")\n",
    "    asset = asset.dropna()\n",
    "    asset[\"log_ret\"] = np.log(asset.Close - asset.Open) #np.log(asset.Open).diff(1).shift(-1)\n",
    "\n",
    "    return asset[\"log_ret\"]\n"
   ]
  },
  {
   "cell_type": "code",
   "execution_count": 8,
   "metadata": {},
   "outputs": [
    {
     "name": "stderr",
     "output_type": "stream",
     "text": [
      "/home/kamran/anaconda3/lib/python3.7/site-packages/IPython/core/interactiveshell.py:3337: DtypeWarning: Columns (2,14,16,19,20,26) have mixed types.Specify dtype option on import or set low_memory=False.\n",
      "  if (await self.run_code(code, result,  async_=asy)):\n"
     ]
    }
   ],
   "source": [
    "# Load the WSB textual data\n",
    "wsb_df = load_wsb_data(wsb_data_path, nrows=None)"
   ]
  },
  {
   "cell_type": "code",
   "execution_count": 25,
   "metadata": {},
   "outputs": [
    {
     "data": {
      "text/plain": [
       "<matplotlib.axes._subplots.AxesSubplot at 0x7f1772209d90>"
      ]
     },
     "execution_count": 25,
     "metadata": {},
     "output_type": "execute_result"
    },
    {
     "data": {
      "image/png": "[encoded data removed]",
      "text/plain": [
       "<Figure size 432x288 with 1 Axes>"
      ]
     },
     "metadata": {
      "needs_background": "light"
     },
     "output_type": "display_data"
    }
   ],
   "source": [
    "wsb_df.groupby(wsb_df[\"created_utc\"].apply(lambda x: datetime.datetime.fromisoformat(x)).dt.year).count().plot(kind=\"bar\")"
   ]
  },
  {
   "cell_type": "code",
   "execution_count": 5,
   "metadata": {},
   "outputs": [
    {
     "name": "stdout",
     "output_type": "stream",
     "text": [
      "[*********************100%***********************]  1 of 1 completed\n"
     ]
    },
    {
     "name": "stderr",
     "output_type": "stream",
     "text": [
      "/home/kamran/anaconda3/lib/python3.7/site-packages/pandas/core/series.py:679: RuntimeWarning: divide by zero encountered in log\n",
      "  result = getattr(ufunc, method)(*inputs, **kwargs)\n",
      "/home/kamran/anaconda3/lib/python3.7/site-packages/pandas/core/series.py:679: RuntimeWarning: invalid value encountered in log\n",
      "  result = getattr(ufunc, method)(*inputs, **kwargs)\n"
     ]
    },
    {
     "name": "stdout",
     "output_type": "stream",
     "text": [
      "[*********************100%***********************]  1 of 1 completed\n",
      "[*********************100%***********************]  1 of 1 completed\n",
      "[*********************100%***********************]  1 of 1 completed\n",
      "[*********************100%***********************]  1 of 1 completed\n",
      "[*********************100%***********************]  1 of 1 completed\n"
     ]
    }
   ],
   "source": [
    "# Load indices\n",
    "\n",
    "SPY = load_stock_yh('SPY')\n",
    "DJI = load_stock_yh('DJI')\n",
    "NDAQ = load_stock_yh('NDAQ')\n",
    "INX = load_stock_yh('INX')\n",
    "NDXE = load_stock_yh('^NDXE')\n",
    "OEX = load_stock_yh('OEX')\n",
    "\n",
    "df_tickers = pd.concat([SPY, DJI, NDAQ, INX, NDXE, OEX], axis=1)\n",
    "df_tickers.columns = ['SPY', 'DJI', 'NDAQ', 'INX', 'NDXE', 'OEX']"
   ]
  },
  {
   "cell_type": "code",
   "execution_count": 26,
   "metadata": {},
   "outputs": [],
   "source": [
    "class PreProcessing:\n",
    "\n",
    "    def __init__(self, wsb_data, lemmatize=True, lower_case=True, rem_stopwords=True, rem_punctuation=True):\n",
    "        \"\"\"\n",
    "        Initialise all class parameters\n",
    "\n",
    "        :param data: nonempty pandas dataframe, wsb dataframe \n",
    "        :param lemmatize: bool, whether to perform lemmatization\n",
    "        :param lower_case: bool, whether to lowercase\n",
    "        :param rem_stopwords: bool, whether to remove stopwords\n",
    "        :param tokenize: bool, whether to tokenize\n",
    "        \"\"\"\n",
    "\n",
    "        self.wsb_data = wsb_data\n",
    "        self.lemmatize = lemmatize\n",
    "        self.lower_case = lower_case\n",
    "        self.rem_stopwords = rem_stopwords\n",
    "        self.rem_punctuation = rem_punctuation\n",
    "\n",
    "    # Ensure Parameter types\n",
    "    # K: need to add to this one gradually as we add columns that we use etc.\n",
    "    @property\n",
    "    def wsb_data(self):\n",
    "        return self._wsb_data\n",
    "\n",
    "    @wsb_data.setter\n",
    "    def wsb_data(self, wsb_data):\n",
    "\n",
    "        req_columns = ['author', 'body', 'created_utc']\n",
    "        str_columns = ['body']\n",
    "        date_columns = ['created_utc']\n",
    "\n",
    "        # Ensure the provided object is a dataframe\n",
    "        if not isinstance(wsb_data, pd.DataFrame):\n",
    "            raise Exception(\"The provided data must be a pandas Dataframe\")\n",
    "\n",
    "        # Ensure wsb dataframe is non empty\n",
    "        if wsb_data.shape[0] == 0:\n",
    "            raise Exception(\"Provided Dataframe is empty\")\n",
    "\n",
    "        # Ensure all required columns are provided\n",
    "        missing_columns = set(req_columns).difference(\n",
    "            set(wsb_data.columns.tolist()))\n",
    "        if len(missing_columns) > 0:\n",
    "            raise Exception(\n",
    "                f\"The columns {missing_columns} are missing from the provided dataframe!\")\n",
    "\n",
    "        # Ensure all column names don't have unexpected periods\n",
    "        if '.' in list(''.join(wsb_data.columns.tolist())):\n",
    "            raise Exception(\"All Column names must not include periods :'.'\")\n",
    "\n",
    "        # Ensure all string columns are strings\n",
    "        non_str_columns = set(str_columns).difference(\n",
    "            set(wsb_data.select_dtypes(include='object')))\n",
    "        if len(non_str_columns) > 0:\n",
    "            raise Exception(\n",
    "                f'The columns {non_str_columns} are expected as string (pandas object) columns.')\n",
    "\n",
    "        self._wsb_data = wsb_data\n",
    "\n",
    "    @property\n",
    "    def lemmatize(self):\n",
    "        return self._lemmatize\n",
    "\n",
    "    @lemmatize.setter\n",
    "    def lemmatize(self, lemmatize):\n",
    "        if not isinstance(lemmatize, bool) and lemmatize is not None:\n",
    "            raise Exception(\n",
    "                'lemmatize must be provided as a boolean parameter (True/False) or None to the class')\n",
    "        self._lemmatize = lemmatize\n",
    "\n",
    "    @property\n",
    "    def lower_case(self):\n",
    "        return self._lower_case\n",
    "\n",
    "    @lower_case.setter\n",
    "    def lower_case(self, lower_case):\n",
    "        if not isinstance(lower_case, bool):\n",
    "            raise Exception(\n",
    "                'lower_case must be provided as a boolean parameter (True/False) to the class')\n",
    "        self._lower_case = lower_case\n",
    "\n",
    "    @property\n",
    "    def rem_stopwords(self):\n",
    "        return self._rem_stopwords\n",
    "\n",
    "    @rem_stopwords.setter\n",
    "    def rem_stopwords(self, rem_stopwords):\n",
    "        if not isinstance(rem_stopwords, bool):\n",
    "            raise Exception(\n",
    "                'rem_stopwords must be provided as a boolean parameter (True/False) to the class')\n",
    "        self._rem_stopwords = rem_stopwords\n",
    "\n",
    "    @property\n",
    "    def rem_punctuation(self):\n",
    "        return self._rem_punctuation\n",
    "\n",
    "    @rem_punctuation.setter\n",
    "    def rem_punctuation(self, rem_punctuation):\n",
    "        if not isinstance(rem_punctuation, bool):\n",
    "            raise Exception(\n",
    "                'rem_punctuation must be provided as a boolean parameter (True/False) to the class')\n",
    "        self._rem_punctuation = rem_punctuation\n",
    "\n",
    "#     @property\n",
    "#     def tokenize(self):\n",
    "#         return self._tokenize\n",
    "\n",
    "#     @tokenize.setter\n",
    "#     def tokenize(self, tokenize):\n",
    "#         if not isinstance(tokenize, bool):\n",
    "#             raise Exception(\n",
    "#                 'tokenize must be provided as a boolean parameter (True/False) to the class')\n",
    "#         self._tokenize = tokenize\n",
    "\n",
    "    def clean_textual_data(self, textual_columns):\n",
    "\n",
    "        # Ensure the provided textual columns exist, and if single string column name convert it into a list\n",
    "        if len(textual_columns) < 1:\n",
    "            raise Exception(\n",
    "                'The number of textual columns to clean must be greater than 0')\n",
    "        if isinstance(textual_columns, str):\n",
    "            textual_columns = [textual_columns]\n",
    "        missing_columns = set(textual_columns).difference(\n",
    "            set(self.wsb_data.columns.tolist()))\n",
    "        if len(missing_columns) > 0:\n",
    "            raise Exception(\n",
    "                f\"The columns {missing_columns} to clean are missing from the wsb dataframe!\")\n",
    "            \n",
    "        def rem_null(self, col_name):\n",
    "            self.wsb_data = self.wsb_data[self.wsb_data[col_name].notna()]\n",
    "            return self.wsb_data\n",
    "\n",
    "        def lower_case_fn(self, col_name):\n",
    "            self.wsb_data[col_name] = self.wsb_data[col_name].str.lower()\n",
    "            return self.wsb_data\n",
    "\n",
    "        def lemmatize_fn(self, col_name):\n",
    "            w_tokenizer = nltk.tokenize.WhitespaceTokenizer()\n",
    "            lemmatizer = nltk.stem.WordNetLemmatizer()\n",
    "            self.wsb_data[col_name] = self.wsb_data[col_name].apply(\n",
    "                lambda x: [lemmatizer.lemmatize(w) for w in w_tokenizer.tokenize(x)])\n",
    "            return self.wsb_data\n",
    "\n",
    "        def stemming_fn(self, col_name):\n",
    "            w_tokenizer = nltk.tokenize.WhitespaceTokenizer()\n",
    "            stemmer = nltk.stem.porter.PorterStemmer()\n",
    "            self.wsb_data[col_name] = self.wsb_data[col_name].apply(\n",
    "                lambda x: [stemmer.stem(w) for w in w_tokenizer.tokenize(x)])\n",
    "            return self.wsb_data\n",
    "\n",
    "        def tokenize_fn(self, col_name):\n",
    "            w_tokenizer = nltk.tokenize.WhitespaceTokenizer()\n",
    "            self.wsb_data[col_name] = self.wsb_data[col_name].apply(\n",
    "                lambda x: [w for w in w_tokenizer.tokenize(x)])\n",
    "            return self.wsb_data\n",
    "\n",
    "        def rem_punctuation_fn(self, col_name):\n",
    "            self.wsb_data[col_name] = self.wsb_data[col_name].apply(\n",
    "                lambda x: [w for w in x if w.isalnum()])\n",
    "            return self.wsb_data\n",
    "\n",
    "        def rem_stopwords_fn(self, col_name):\n",
    "            \"stopwords dictionary considered English, wsb is an english forum\"\n",
    "            remove_elements = set(nltk.corpus.stopwords.words('english'))\n",
    "            self.wsb_data[col_name] = self.wsb_data[col_name].apply(\n",
    "                lambda x: [w for w in x if not w in remove_elements])\n",
    "            return self.wsb_data\n",
    "\n",
    "        def remove_tokenization(self, col_name):\n",
    "            \"Necessary as final step to untokenize in case desired, tokenization required for other functions to not break\"\n",
    "            self.wsb_data[col_name] = self.wsb_data[col_name].apply(\n",
    "                lambda x: ' '.join(x))\n",
    "            return self.wsb_data\n",
    "\n",
    "        for textual_col in textual_columns:\n",
    "            \n",
    "            rem_null(self, textual_col)\n",
    "\n",
    "            if self.lower_case:\n",
    "                lower_case_fn(self, textual_col)\n",
    "\n",
    "            # lemmatize tokens if true, if false, stem tokens, if None then just tokenize\n",
    "            if self.lemmatize:\n",
    "                lemmatize_fn(self, textual_col)\n",
    "            elif self.lemmatize == False:\n",
    "                stemming_fn(self, textual_col)\n",
    "            else:\n",
    "                tokenize_fn(self, textual_col)\n",
    "\n",
    "            if self.rem_punctuation:\n",
    "                rem_punctuation_fn(self, textual_col)\n",
    "            if self.rem_stopwords:\n",
    "                rem_stopwords_fn(self, textual_col)\n",
    "                \n",
    "            remove_tokenization(self, textual_col)\n",
    "\n",
    "        return self.wsb_data"
   ]
  },
  {
   "cell_type": "code",
   "execution_count": null,
   "metadata": {},
   "outputs": [
    {
     "name": "stderr",
     "output_type": "stream",
     "text": [
      "/home/kamran/anaconda3/lib/python3.7/site-packages/ipykernel_launcher.py:135: SettingWithCopyWarning: \n",
      "A value is trying to be set on a copy of a slice from a DataFrame.\n",
      "Try using .loc[row_indexer,col_indexer] = value instead\n",
      "\n",
      "See the caveats in the documentation: https://pandas.pydata.org/pandas-docs/stable/user_guide/indexing.html#returning-a-view-versus-a-copy\n",
      "/home/kamran/anaconda3/lib/python3.7/site-packages/ipykernel_launcher.py:155: SettingWithCopyWarning: \n",
      "A value is trying to be set on a copy of a slice from a DataFrame.\n",
      "Try using .loc[row_indexer,col_indexer] = value instead\n",
      "\n",
      "See the caveats in the documentation: https://pandas.pydata.org/pandas-docs/stable/user_guide/indexing.html#returning-a-view-versus-a-copy\n"
     ]
    }
   ],
   "source": [
    "WSBPreProcessing = PreProcessing(\n",
    "    wsb_df, lemmatize=None, lower_case=True, rem_stopwords=True, rem_punctuation=True)\n",
    "WSBPreProcessing.clean_textual_data('body')\n",
    "useful_columns = ['author', 'body', 'created_utc',\n",
    "                  'score', 'link_id', 'is_submitter']\n",
    "WSB_preprocessed_data = WSBPreProcessing.wsb_data[useful_columns]"
   ]
  },
  {
   "cell_type": "code",
   "execution_count": null,
   "metadata": {},
   "outputs": [],
   "source": [
    "def rem_url_at(df):\n",
    "    raw = []\n",
    "    for sentence in tqdm(df['body']):\n",
    "        sentence = re.sub('http[s]?://(?:[a-zA-Z]|[0-9]|[$-_@.&+#]|[!*\\(\\),]|'\n",
    "                          '(?:%[0-9a-fA-F][0-9a-fA-F]))+', '', sentence)\n",
    "        sentence = re.sub(\"(@[A-Za-z0-9_]+)\", \"\", sentence)\n",
    "        raw.append(sentence)\n",
    "    df['body'] = raw\n",
    "\n",
    "    return df\n",
    "\n",
    "\n",
    "def tagging(df):\n",
    "    pos,tag,dep,shape = [],[],[],[]\n",
    "    for sentence in tqdm(df['body']):\n",
    "        pos_tmp,tag_tmp,dep_tmp,shape_tmp = [],[],[],[]\n",
    "        for token in nlp(sentence):\n",
    "            pos_tmp.append(token.pos_)\n",
    "            tag_tmp.append(token.tag_)\n",
    "            dep_tmp.append(token.dep_)\n",
    "            shape_tmp.append(token.shape_)\n",
    "        pos.append(pos_tmp)\n",
    "        tag.append(tag_tmp)\n",
    "        dep.append(dep_tmp)\n",
    "        shape.append(shape_tmp)\n",
    "\n",
    "    df['Pos'] = pos\n",
    "    df['Tag'] = tag\n",
    "    df['Dep'] = dep\n",
    "    df['Shape'] = shape\n",
    "\n",
    "    return df"
   ]
  },
  {
   "cell_type": "code",
   "execution_count": 9,
   "metadata": {},
   "outputs": [
    {
     "name": "stderr",
     "output_type": "stream",
     "text": [
      "100%|██████████| 943/943 [00:00<00:00, 343365.63it/s]\n"
     ]
    }
   ],
   "source": [
    "WSB_preprocessed_data = rem_url_at(WSB_preprocessed_data)\n",
    "#WSB_preprocessed_data = tagging(WSB_preprocessed_data)\n",
    "\n",
    "WSB_preprocessed_data.replace('', np.nan, inplace=True)\n",
    "WSB_preprocessed_data = WSB_preprocessed_data.dropna(how='any', axis=0)\n",
    "WSB_preprocessed_data = WSB_preprocessed_data[WSB_preprocessed_data['body'].map(\n",
    "    lambda d: len(d)) > 0]\n"
   ]
  },
  {
   "cell_type": "markdown",
   "metadata": {},
   "source": [
    "## Sentiment Analyser\n",
    "- Flair\n",
    "- Vader\n",
    "- Blob"
   ]
  },
  {
   "cell_type": "code",
   "execution_count": 10,
   "metadata": {},
   "outputs": [
    {
     "name": "stdout",
     "output_type": "stream",
     "text": [
      "2022-01-02 13:05:51,760 loading file /home/kamran/.flair/models/sentiment-en-mix-distillbert_4.pt\n"
     ]
    }
   ],
   "source": [
    "from textblob import TextBlob\n",
    "from nltk.sentiment import SentimentIntensityAnalyzer\n",
    "from flair.models import TextClassifier\n",
    "from flair.data import Sentence\n",
    "classifier = TextClassifier.load('en-sentiment')\n"
   ]
  },
  {
   "cell_type": "code",
   "execution_count": 11,
   "metadata": {},
   "outputs": [],
   "source": [
    "import tqdm.notebook as tq\n",
    "\n",
    "def sentiment_analyser(df, v=True, f=False, b=False, r_vader=0.8, r_fler=0.1, r_blob=0.1):\n",
    "\n",
    "    df_fler, df_vader, df_blob = [], [], []\n",
    "    for sentence in tqdm(df['body'], position=0):\n",
    "        if v:\n",
    "            df_vader.append(vader(sentence))\n",
    "        if f:\n",
    "            df_fler.append(fler(sentence))\n",
    "        if b:\n",
    "            df_blob.append(blob(sentence))\n",
    "    if v: \n",
    "        df['VADER'] = df_vader\n",
    "    if f: \n",
    "        df['FLAIR'] = df_fler\n",
    "    if b:\n",
    "        df['BLOB'] = df_blob\n",
    "\n",
    "    if v and f and b:\n",
    "        df['compound'] = df['VADER']*r_vader + \\\n",
    "            df['FLAIR']*r_fler + df['BLOB']*r_blob\n",
    "    elif v and f and not b:\n",
    "        df['compound'] = df['VADER']*(r_vader+r_blob) + df['FLAIR']*r_fler\n",
    "    elif v and b and not f:\n",
    "        df['compound'] = df['VADER']*(r_vader+r_fler) + df['BLOB']*r_blob\n",
    "    else:\n",
    "        df['compound'] = df['VADER']\n",
    "\n",
    "    return df\n",
    "\n",
    "\n",
    "def vader(sentence):\n",
    "    analyzer = SentimentIntensityAnalyzer()\n",
    "    sentiment = analyzer.polarity_scores(sentence)['compound']\n",
    "    return float(sentiment)\n",
    "\n",
    "\n",
    "def fler(sentence):\n",
    "    s = Sentence(sentence)\n",
    "    classifier.predict(s)\n",
    "    sentiment = str(s.labels[0])\n",
    "    num = float(re.findall(r'\\d+\\.\\d+', sentiment)[0])\n",
    "    if sentiment.find('POSITIVE') == -1:\n",
    "        num = num * -1\n",
    "    return num\n",
    "\n",
    "\n",
    "def blob(sentence):\n",
    "    sentiment = TextBlob(sentence).sentiment.polarity\n",
    "    return sentiment\n",
    "\n",
    "\n",
    "#WSB_preprocessed_data = sentiment_analyser(WSB_preprocessed_data)"
   ]
  },
  {
   "cell_type": "code",
   "execution_count": 12,
   "metadata": {},
   "outputs": [],
   "source": [
    "import multiprocessing\n",
    "\n",
    "n_splits = 8\n",
    "n_rows = len(WSB_preprocessed_data)\n",
    "chunks = [[int(i * n_rows/n_splits), int((i+1) * n_rows/n_splits)]  for i in range(n_splits)]\n",
    "\n",
    "# function to perform vader analysis on portion of the table\n",
    "def vader_worker(row_range):\n",
    "    return sentiment_analyser(WSB_preprocessed_data.iloc[row_range[0]:row_range[1]])\n"
   ]
  },
  {
   "cell_type": "code",
   "execution_count": 13,
   "metadata": {},
   "outputs": [
    {
     "name": "stderr",
     "output_type": "stream",
     "text": [
      "100%|██████████| 110/110 [00:01<00:00, 81.80it/s]\n",
      "/home/kamran/anaconda3/lib/python3.7/site-packages/ipykernel_launcher.py:14: SettingWithCopyWarning: \n",
      "A value is trying to be set on a copy of a slice from a DataFrame.\n",
      "Try using .loc[row_indexer,col_indexer] = value instead\n",
      "\n",
      "See the caveats in the documentation: https://pandas.pydata.org/pandas-docs/stable/user_guide/indexing.html#returning-a-view-versus-a-copy\n",
      "  \n",
      "/home/kamran/anaconda3/lib/python3.7/site-packages/ipykernel_launcher.py:28: SettingWithCopyWarning: \n",
      "A value is trying to be set on a copy of a slice from a DataFrame.\n",
      "Try using .loc[row_indexer,col_indexer] = value instead\n",
      "\n",
      "See the caveats in the documentation: https://pandas.pydata.org/pandas-docs/stable/user_guide/indexing.html#returning-a-view-versus-a-copy\n",
      "100%|██████████| 110/110 [00:01<00:00, 73.10it/s]\n",
      "100%|██████████| 111/111 [00:01<00:00, 68.50it/s]/home/kamran/anaconda3/lib/python3.7/site-packages/ipykernel_launcher.py:14: SettingWithCopyWarning: \n",
      "A value is trying to be set on a copy of a slice from a DataFrame.\n",
      "Try using .loc[row_indexer,col_indexer] = value instead\n",
      "\n",
      "See the caveats in the documentation: https://pandas.pydata.org/pandas-docs/stable/user_guide/indexing.html#returning-a-view-versus-a-copy\n",
      "  \n",
      "/home/kamran/anaconda3/lib/python3.7/site-packages/ipykernel_launcher.py:28: SettingWithCopyWarning: \n",
      "A value is trying to be set on a copy of a slice from a DataFrame.\n",
      "Try using .loc[row_indexer,col_indexer] = value instead\n",
      "\n",
      "See the caveats in the documentation: https://pandas.pydata.org/pandas-docs/stable/user_guide/indexing.html#returning-a-view-versus-a-copy\n",
      "100%|██████████| 110/110 [00:01<00:00, 70.88it/s]\n",
      "100%|██████████| 111/111 [00:01<00:00, 70.47it/s]\n",
      "/home/kamran/anaconda3/lib/python3.7/site-packages/ipykernel_launcher.py:14: SettingWithCopyWarning: \n",
      "A value is trying to be set on a copy of a slice from a DataFrame.\n",
      "Try using .loc[row_indexer,col_indexer] = value instead\n",
      "\n",
      "See the caveats in the documentation: https://pandas.pydata.org/pandas-docs/stable/user_guide/indexing.html#returning-a-view-versus-a-copy\n",
      "  \n",
      "/home/kamran/anaconda3/lib/python3.7/site-packages/ipykernel_launcher.py:28: SettingWithCopyWarning: \n",
      "A value is trying to be set on a copy of a slice from a DataFrame.\n",
      "Try using .loc[row_indexer,col_indexer] = value instead\n",
      "\n",
      "See the caveats in the documentation: https://pandas.pydata.org/pandas-docs/stable/user_guide/indexing.html#returning-a-view-versus-a-copy\n",
      "/home/kamran/anaconda3/lib/python3.7/site-packages/ipykernel_launcher.py:14: SettingWithCopyWarning: \n",
      "A value is trying to be set on a copy of a slice from a DataFrame.\n",
      "Try using .loc[row_indexer,col_indexer] = value instead\n",
      "\n",
      "See the caveats in the documentation: https://pandas.pydata.org/pandas-docs/stable/user_guide/indexing.html#returning-a-view-versus-a-copy\n",
      "  \n",
      "/home/kamran/anaconda3/lib/python3.7/site-packages/ipykernel_launcher.py:28: SettingWithCopyWarning: \n",
      "A value is trying to be set on a copy of a slice from a DataFrame.\n",
      "Try using .loc[row_indexer,col_indexer] = value instead\n",
      "\n",
      "See the caveats in the documentation: https://pandas.pydata.org/pandas-docs/stable/user_guide/indexing.html#returning-a-view-versus-a-copy\n",
      "100%|██████████| 110/110 [00:01<00:00, 70.72it/s]\n",
      "/home/kamran/anaconda3/lib/python3.7/site-packages/ipykernel_launcher.py:14: SettingWithCopyWarning: \n",
      "A value is trying to be set on a copy of a slice from a DataFrame.\n",
      "Try using .loc[row_indexer,col_indexer] = value instead\n",
      "\n",
      "See the caveats in the documentation: https://pandas.pydata.org/pandas-docs/stable/user_guide/indexing.html#returning-a-view-versus-a-copy\n",
      "  \n",
      "/home/kamran/anaconda3/lib/python3.7/site-packages/ipykernel_launcher.py:28: SettingWithCopyWarning: \n",
      "A value is trying to be set on a copy of a slice from a DataFrame.\n",
      "Try using .loc[row_indexer,col_indexer] = value instead\n",
      "\n",
      "See the caveats in the documentation: https://pandas.pydata.org/pandas-docs/stable/user_guide/indexing.html#returning-a-view-versus-a-copy\n",
      "100%|██████████| 111/111 [00:01<00:00, 69.90it/s]\n",
      " 97%|█████████▋| 108/111 [00:01<00:00, 75.55it/s]/home/kamran/anaconda3/lib/python3.7/site-packages/ipykernel_launcher.py:14: SettingWithCopyWarning: \n",
      "A value is trying to be set on a copy of a slice from a DataFrame.\n",
      "Try using .loc[row_indexer,col_indexer] = value instead\n",
      "\n",
      "See the caveats in the documentation: https://pandas.pydata.org/pandas-docs/stable/user_guide/indexing.html#returning-a-view-versus-a-copy\n",
      "  \n",
      "/home/kamran/anaconda3/lib/python3.7/site-packages/ipykernel_launcher.py:28: SettingWithCopyWarning: \n",
      "A value is trying to be set on a copy of a slice from a DataFrame.\n",
      "Try using .loc[row_indexer,col_indexer] = value instead\n",
      "\n",
      "See the caveats in the documentation: https://pandas.pydata.org/pandas-docs/stable/user_guide/indexing.html#returning-a-view-versus-a-copy\n",
      "100%|██████████| 111/111 [00:01<00:00, 69.24it/s]\n",
      "/home/kamran/anaconda3/lib/python3.7/site-packages/ipykernel_launcher.py:14: SettingWithCopyWarning: \n",
      "A value is trying to be set on a copy of a slice from a DataFrame.\n",
      "Try using .loc[row_indexer,col_indexer] = value instead\n",
      "\n",
      "See the caveats in the documentation: https://pandas.pydata.org/pandas-docs/stable/user_guide/indexing.html#returning-a-view-versus-a-copy\n",
      "  \n",
      "/home/kamran/anaconda3/lib/python3.7/site-packages/ipykernel_launcher.py:28: SettingWithCopyWarning: \n",
      "A value is trying to be set on a copy of a slice from a DataFrame.\n",
      "Try using .loc[row_indexer,col_indexer] = value instead\n",
      "\n",
      "See the caveats in the documentation: https://pandas.pydata.org/pandas-docs/stable/user_guide/indexing.html#returning-a-view-versus-a-copy\n",
      "100%|██████████| 110/110 [00:01<00:00, 61.42it/s]\n",
      "/home/kamran/anaconda3/lib/python3.7/site-packages/ipykernel_launcher.py:14: SettingWithCopyWarning: \n",
      "A value is trying to be set on a copy of a slice from a DataFrame.\n",
      "Try using .loc[row_indexer,col_indexer] = value instead\n",
      "\n",
      "See the caveats in the documentation: https://pandas.pydata.org/pandas-docs/stable/user_guide/indexing.html#returning-a-view-versus-a-copy\n",
      "  \n",
      "/home/kamran/anaconda3/lib/python3.7/site-packages/ipykernel_launcher.py:28: SettingWithCopyWarning: \n",
      "A value is trying to be set on a copy of a slice from a DataFrame.\n",
      "Try using .loc[row_indexer,col_indexer] = value instead\n",
      "\n",
      "See the caveats in the documentation: https://pandas.pydata.org/pandas-docs/stable/user_guide/indexing.html#returning-a-view-versus-a-copy\n"
     ]
    }
   ],
   "source": [
    "p = multiprocessing.Pool(processes=n_splits) \n",
    "WSB_preprocessed_data = p.map(vader_worker, chunks)\n",
    "p.close() \n",
    "del p"
   ]
  },
  {
   "cell_type": "code",
   "execution_count": 14,
   "metadata": {},
   "outputs": [],
   "source": [
    "WSB_preprocessed_data = pd.concat(WSB_preprocessed_data)"
   ]
  },
  {
   "cell_type": "code",
   "execution_count": 15,
   "metadata": {},
   "outputs": [],
   "source": [
    "WSB_preprocessed_data.to_pickle(INTERM_DIR+'/SAprocessed/wsb_pkl')"
   ]
  },
  {
   "cell_type": "markdown",
   "metadata": {},
   "source": [
    "### Fast Fourier Transform on Sentiment Analyses"
   ]
  },
  {
   "cell_type": "code",
   "execution_count": 455,
   "metadata": {},
   "outputs": [],
   "source": [
    "from scipy.fftpack import fft, ifft\n",
    "\n",
    "\n",
    "def fourier(df, n_dimensions):\n",
    "    for n in n_dimensions:\n",
    "        n = round(n)\n",
    "        tmp_ = fft(df['compound'].values)\n",
    "        tmp_[n:-n] = 0\n",
    "        df['fourier_'+str(n)] = ifft(tmp_)\n",
    "    return df\n",
    "\n",
    "\n",
    "l = len(WSB_preprocessed_data)\n",
    "WSB_preprocessed_data = fourier(\n",
    "    WSB_preprocessed_data, np.linspace(round(l*0.1), round(l*0.9), 5))\n",
    "\n",
    "WSB_preprocessed_data.to_pickle(DATA_DIR+'/clean/Global_df')\n"
   ]
  },
  {
   "cell_type": "code",
   "execution_count": 535,
   "metadata": {},
   "outputs": [],
   "source": [
    "def merged_df(df, df_tickers, column='compound', freq='D', var=1.1):\n",
    "    final_df = pd.DataFrame()\n",
    "\n",
    "    df['final_compound'] = df.score**var * df[column]\n",
    "    final_df['final_compound'] = df.groupby(\n",
    "        df['created_utc'].dt.to_period(freq)).final_compound.mean()\n",
    "    final_df.index = final_df.index.to_timestamp()\n",
    "    final_df = pd.merge(final_df, df_tickers, left_index=True, right_index=True)     # .dropna(subset=[\"final_compound\"], inplace=True)\n",
    "\n",
    "    return final_df\n",
    "\n",
    "final_df = merged_df(WSB_preprocessed_data, df_tickers)\n",
    "\n",
    "final_df.to_pickle(DATA_DIR+f'/clean/Final_df')\n"
   ]
  },
  {
   "cell_type": "markdown",
   "metadata": {},
   "source": [
    "### Splitting"
   ]
  },
  {
   "cell_type": "code",
   "execution_count": 548,
   "metadata": {},
   "outputs": [
    {
     "data": {
      "text/plain": [
       "(array([5., 8., 0., 2., 0., 1., 1., 0., 2., 1.]),\n",
       " array([0.        , 0.01714286, 0.03428571, 0.05142857, 0.06857143,\n",
       "        0.08571429, 0.10285714, 0.12      , 0.13714286, 0.15428571,\n",
       "        0.17142857]),\n",
       " <BarContainer object of 10 artists>)"
      ]
     },
     "execution_count": 548,
     "metadata": {},
     "output_type": "execute_result"
    },
    {
     "data": {
      "image/png": "[encoded data removed]",
      "text/plain": [
       "<Figure size 432x288 with 1 Axes>"
      ]
     },
     "metadata": {
      "needs_background": "light"
     },
     "output_type": "display_data"
    }
   ],
   "source": [
    "from sklearn.model_selection import TimeSeriesSplit\n",
    "\n",
    "tscv = TimeSeriesSplit(gap=0, max_train_size=0.8, n_splits=3, test_size=0.1)\n",
    "\n",
    "X = final_df.final_compound\n",
    "y = final_df.SPY #for SPY\n",
    "# plt.hist(y.value_counts(normalize=True, bins=20))\n",
    "\n",
    "for train_index, test_index in tscv.split(X):\n",
    "\n",
    "    X_train, X_test = X[train_index], X[test_index]\n",
    "    y_train, y_test = y[train_index], y[test_index]\n",
    "    "
   ]
  }
 ],
 "metadata": {
  "interpreter": {
   "hash": "31f2aee4e71d21fbe5cf8b01ff0e069b9275f58929596ceb00d14d90e3e16cd6"
  },
  "kernelspec": {
   "display_name": "Python 3",
   "language": "python",
   "name": "python3"
  },
  "language_info": {
   "codemirror_mode": {
    "name": "ipython",
    "version": 3
   },
   "file_extension": ".py",
   "mimetype": "text/x-python",
   "name": "python",
   "nbconvert_exporter": "python",
   "pygments_lexer": "ipython3",
   "version": "3.7.6"
  }
 },
 "nbformat": 4,
 "nbformat_minor": 4
}
